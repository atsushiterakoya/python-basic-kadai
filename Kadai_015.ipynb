{
  "nbformat": 4,
  "nbformat_minor": 0,
  "metadata": {
    "colab": {
      "provenance": []
    },
    "kernelspec": {
      "name": "python3",
      "display_name": "Python 3"
    },
    "language_info": {
      "name": "python"
    }
  },
  "cells": [
    {
      "cell_type": "code",
      "execution_count": 1,
      "metadata": {
        "colab": {
          "base_uri": "https://localhost:8080/"
        },
        "id": "X83nW6lnEstq",
        "outputId": "d1ac0024-ccce-48dd-c3b5-50b945e20563"
      },
      "outputs": [
        {
          "output_type": "stream",
          "name": "stdout",
          "text": [
            "たろう\n",
            "20\n"
          ]
        }
      ],
      "source": [
        "class Human:\n",
        "    def __init__(self):\n",
        "        #属性を定義\n",
        "        self.name = \"\"\n",
        "        self.age = \"\"\n",
        "\n",
        "    #メソッドを定義\n",
        "    def set_name(self, name):\n",
        "        self.name = name\n",
        "\n",
        "    def set_age(self, age):\n",
        "        self.age = age\n",
        "\n",
        "    def printinfo(self):\n",
        "        print(self.name)\n",
        "        print(self.age)\n",
        "\n",
        "#インスタンス化する\n",
        "kadai = Human()\n",
        "\n",
        "#メソッドにアクセスして実行\n",
        "kadai.set_name(\"たろう\")\n",
        "kadai.set_age(20)\n",
        "kadai.printinfo()"
      ]
    }
  ]
}