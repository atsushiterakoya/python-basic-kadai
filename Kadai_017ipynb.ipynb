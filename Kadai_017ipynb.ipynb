{
  "nbformat": 4,
  "nbformat_minor": 0,
  "metadata": {
    "colab": {
      "provenance": []
    },
    "kernelspec": {
      "name": "python3",
      "display_name": "Python 3"
    },
    "language_info": {
      "name": "python"
    }
  },
  "cells": [
    {
      "cell_type": "code",
      "execution_count": 12,
      "metadata": {
        "id": "ogMkosbSpIBt",
        "colab": {
          "base_uri": "https://localhost:8080/"
        },
        "outputId": "42507d66-92e6-4903-ee75-8dc5b7b03eb0"
      },
      "outputs": [
        {
          "output_type": "stream",
          "name": "stdout",
          "text": [
            "鈴木は大人ではありません\n",
            "田中は大人です。\n",
            "山田は大人です。\n"
          ]
        }
      ],
      "source": [
        "class Human:\n",
        "    def __init__(self, name, age):\n",
        "        #属性を定義する\n",
        "        self.name = name\n",
        "        self.age = age\n",
        "\n",
        "    #メソッドを定義する\n",
        "    def check_adult(self):\n",
        "        if 20 <= self.age:\n",
        "            print(f\"{self.name}は大人です。\")\n",
        "        else:\n",
        "            print(f\"{self.name}は大人ではありません\")\n",
        "\n",
        "#Humanクラスのインスタンスを生成しリストに追加\n",
        "people = []\n",
        "people.append(Human(\"鈴木\", 18))\n",
        "people.append(Human(\"田中\", 20))\n",
        "people.append(Human(\"山田\", 22))\n",
        "\n",
        "#リストの要素分だけメソッドを呼び出し\n",
        "for i in people:\n",
        "    i.check_adult()\n",
        "\n",
        "\n"
      ]
    }
  ]
}