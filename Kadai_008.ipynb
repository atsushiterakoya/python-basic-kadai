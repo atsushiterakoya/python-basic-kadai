{
  "nbformat": 4,
  "nbformat_minor": 0,
  "metadata": {
    "colab": {
      "provenance": []
    },
    "kernelspec": {
      "name": "python3",
      "display_name": "Python 3"
    },
    "language_info": {
      "name": "python"
    }
  },
  "cells": [
    {
      "cell_type": "code",
      "execution_count": 12,
      "metadata": {
        "colab": {
          "base_uri": "https://localhost:8080/"
        },
        "id": "J9Uj-ug6TMeW",
        "outputId": "36f59f79-0db3-4e6a-9365-4fefd813675a"
      },
      "outputs": [
        {
          "output_type": "stream",
          "name": "stdout",
          "text": [
            "9\n",
            "Fizz\n"
          ]
        }
      ],
      "source": [
        "import random\n",
        "\n",
        "#変数varに1－20までのランダムな整数を代入する\n",
        "var = random.randint(1,20)\n",
        "\n",
        "print(var)\n",
        "\n",
        "#変数varが3と5の倍数の両方の時FizzBuzzを出力\n",
        "if var % 3 == 0 and var % 5 == 0:\n",
        "    print(\"FizzBuzz\")\n",
        "#変数varが3の倍数の時Fizzを出力\n",
        "elif var % 3 == 0:\n",
        "    print(\"Fizz\")\n",
        "#変数varが5の倍数の時Buzzを出力\n",
        "elif var % 5 == 0:\n",
        "    print(\"Buzz\")\n",
        "#その他は変数varを出力\n",
        "else:\n",
        "  print(var)"
      ]
    }
  ]
}